{
  "nbformat": 4,
  "nbformat_minor": 0,
  "metadata": {
    "colab": {
      "provenance": [],
      "gpuType": "T4",
      "authorship_tag": "ABX9TyPmUJ9+fKEGhy0SFuFEDQss",
      "include_colab_link": true
    },
    "kernelspec": {
      "name": "python3",
      "display_name": "Python 3"
    },
    "language_info": {
      "name": "python"
    },
    "accelerator": "GPU"
  },
  "cells": [
    {
      "cell_type": "markdown",
      "metadata": {
        "id": "view-in-github",
        "colab_type": "text"
      },
      "source": [
        "<a href=\"https://colab.research.google.com/github/dudgus7477/deeplearning/blob/main/(%EC%8B%A4%EC%8A%B5%EC%9A%A9)%EC%88%AB%EC%9E%90%20%EA%B7%B8%EB%A6%BC%20%EC%9D%B8%EC%8B%9D(CNN).ipynb\" target=\"_parent\"><img src=\"https://colab.research.google.com/assets/colab-badge.svg\" alt=\"Open In Colab\"/></a>"
      ]
    },
    {
      "cell_type": "markdown",
      "source": [
        "#CNN 알고리즘\n",
        "- 합성곱 신경망, 컨볼루션 신경망이라고 부름\n",
        "- 입력된 이미지에서 다시 한 번 특징을 추출하기 위해 커널(슬라이딩 윈도)을 도입하는 기법"
      ],
      "metadata": {
        "id": "K3Y0bChNXKpo"
      }
    },
    {
      "cell_type": "markdown",
      "source": [
        "[합성곱 신경망 PPT]\n",
        "- (https://docs.google.com/presentation/d/1N04LkuYwUVKZQgJyYWyHrdEvG32Nrmmvgo_daEaaDvs/edit?usp=sharing"
      ],
      "metadata": {
        "id": "ZSpl0W0L7Fr8"
      }
    },
    {
      "cell_type": "markdown",
      "source": [
        "##CNN 적용하여 손글씨 인식하기"
      ],
      "metadata": {
        "id": "iLsRgxww7abR"
      }
    },
    {
      "cell_type": "code",
      "execution_count": null,
      "metadata": {
        "id": "9VlCAUXCW9bX"
      },
      "outputs": [],
      "source": [
        "from tensorflow.keras.models import Sequential\n",
        "from tensorflow.keras.layers import Dense, Dropout, Flatten, Conv2D, MaxPooling2D\n",
        "from tensorflow.keras.callbacks import ModelCheckpoint, EarlyStopping\n",
        "from tensorflow.keras.datasets import mnist\n",
        "from tensorflow.keras.utils import to_categorical"
      ]
    },
    {
      "cell_type": "code",
      "source": [
        "#데이터 로드 및 정규화\n",
        "import matplotlib.pyplot as plt\n",
        "import numpy as np\n",
        "\n",
        "(X_train, Y_train), (X_test, Y_test) = mnist.load_data()\n",
        "X_train = X_train.reshape(X_train.shape[0], 28, 28, 1).astype('float32') / 255\n",
        "X_test = X_test.reshape(X_test.shape[0], 28, 28, 1).astype('float32') / 255\n",
        "y_train = to_categorical(Y_train)\n",
        "y_test = to_categorical(Y_test)"
      ],
      "metadata": {
        "id": "7FfiYk9v78h5"
      },
      "execution_count": null,
      "outputs": []
    },
    {
      "cell_type": "code",
      "source": [
        "#CNN 적용\n"
      ],
      "metadata": {
        "id": "g5QaP7Ol8nZZ"
      },
      "execution_count": null,
      "outputs": []
    },
    {
      "cell_type": "code",
      "source": [
        "model.compile(loss='categorical_crossentropy', optimizer='adam', metrics=['accuracy'])"
      ],
      "metadata": {
        "id": "eLfBO8Wt-Hc7"
      },
      "execution_count": null,
      "outputs": []
    },
    {
      "cell_type": "code",
      "source": [
        "modelpath=\"./data/model/MNIST_CNN.hdf5\"\n",
        "checkpointer = ModelCheckpoint(filepath=modelpath, monitor='val_loss', verbose=1, save_best_only=True)\n",
        "early_stopping_callback = EarlyStopping(monitor='val_loss', patience=10)"
      ],
      "metadata": {
        "id": "cwUnn7iy-U68"
      },
      "execution_count": null,
      "outputs": []
    },
    {
      "cell_type": "code",
      "source": [
        "history = model.fit(X_train, y_train, validation_split=0.25, epochs=30, batch_size=200, verbose=0, callbacks=[early_stopping_callback,checkpointer])"
      ],
      "metadata": {
        "id": "hGufiMZg-XjF"
      },
      "execution_count": 1,
      "outputs": []
    },
    {
      "cell_type": "code",
      "source": [
        "print(\"\\n Test Accuracy: %.4f\" % (model.evaluate(X_test, y_test)[1]))"
      ],
      "metadata": {
        "id": "ISelB-ib-bAd"
      },
      "execution_count": 2,
      "outputs": []
    },
    {
      "cell_type": "code",
      "source": [
        "y_vloss = history.history['val_loss']\n",
        "y_loss = history.history['loss']\n",
        "\n",
        "x_len = np.arange(len(y_loss))\n",
        "plt.plot(x_len, y_vloss, marker='.', c=\"red\", label='Testset_loss')\n",
        "plt.plot(x_len, y_loss, marker='.', c=\"blue\", label='Trainset_loss')\n",
        "\n",
        "plt.legend(loc='upper right')\n",
        "plt.grid()\n",
        "plt.xlabel('epoch')\n",
        "plt.ylabel('loss')\n",
        "plt.show()"
      ],
      "metadata": {
        "id": "nhUuvUy5-wvK"
      },
      "execution_count": 3,
      "outputs": []
    },
    {
      "cell_type": "code",
      "source": [
        "# 인공지능이 잘 구분한 그림과 잘 구분하지 않은 그림 살펴보기\n",
        "predicted_classes = np.argmax(model.predict(X_test), axis=1) #예측 수 각 행에서 가장 큰 수 고르기\n",
        "correct_indices = np.nonzero(predicted_classes == Y_test)[0]\n",
        "incorrect_indices = np.nonzero(predicted_classes != Y_test)[0]"
      ],
      "metadata": {
        "id": "d3u2juNgC0pt"
      },
      "execution_count": 4,
      "outputs": []
    },
    {
      "cell_type": "code",
      "source": [
        "plt.figure()\n",
        "for i in range(9):\n",
        "  plt.subplot(3,3,i+1)\n",
        "  correct = correct_indices[i]\n",
        "  plt.imshow(X_test[correct].reshape(28,28), cmap = 'gray')\n",
        "  plt.title(\"Predicted {}, Class {}\".format(predicted_classes[correct], Y_test[correct]))\n",
        "  plt.tight_layout()"
      ],
      "metadata": {
        "id": "txUrWNSFDafM"
      },
      "execution_count": 5,
      "outputs": []
    },
    {
      "cell_type": "code",
      "source": [
        "plt.figure()\n",
        "for i in range(9):\n",
        "  plt.subplot(3,3,i+1)\n",
        "  incorrect = incorrect_indices[i]\n",
        "  plt.imshow(X_test[incorrect].reshape(28,28), cmap = 'gray')\n",
        "  plt.title(\"Predicted {}, Class {}\".format(predicted_classes[incorrect], Y_test[incorrect]))\n",
        "  plt.tight_layout()"
      ],
      "metadata": {
        "id": "XongNIPzDexF"
      },
      "execution_count": 6,
      "outputs": []
    },
    {
      "cell_type": "markdown",
      "source": [
        "##내가 쓴 손글씨 인식하기"
      ],
      "metadata": {
        "id": "5juEKfwLCcB0"
      }
    },
    {
      "cell_type": "code",
      "source": [
        "from PIL import Image\n",
        "\n",
        "img = Image.open()\n",
        "img = img.resize((28,28))\n",
        "img_data = np.array(img)\n",
        "img_data.shape"
      ],
      "metadata": {
        "id": "sB_U9bwZylMI"
      },
      "execution_count": 7,
      "outputs": []
    },
    {
      "cell_type": "code",
      "source": [
        "plt.imshow(img_data)"
      ],
      "metadata": {
        "id": "OGf6DEwp0ZLJ"
      },
      "execution_count": 8,
      "outputs": []
    },
    {
      "cell_type": "code",
      "source": [
        "output = model.predict(trans_img)\n",
        "print(\"결과는 : \", np.argmax(output))"
      ],
      "metadata": {
        "id": "OTpAnxM-2QXI"
      },
      "execution_count": 9,
      "outputs": []
    }
  ]
}