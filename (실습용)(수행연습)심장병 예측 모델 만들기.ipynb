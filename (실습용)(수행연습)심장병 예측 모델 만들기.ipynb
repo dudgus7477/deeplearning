{
  "nbformat": 4,
  "nbformat_minor": 0,
  "metadata": {
    "colab": {
      "provenance": [],
      "authorship_tag": "ABX9TyNcAS/VrDdTszk3/Z7KgsxO",
      "include_colab_link": true
    },
    "kernelspec": {
      "name": "python3",
      "display_name": "Python 3"
    },
    "language_info": {
      "name": "python"
    }
  },
  "cells": [
    {
      "cell_type": "markdown",
      "metadata": {
        "id": "view-in-github",
        "colab_type": "text"
      },
      "source": [
        "<a href=\"https://colab.research.google.com/github/dudgus7477/deeplearning/blob/main/(%EC%8B%A4%EC%8A%B5%EC%9A%A9)(%EC%88%98%ED%96%89%EC%97%B0%EC%8A%B5)%EC%8B%AC%EC%9E%A5%EB%B3%91%20%EC%98%88%EC%B8%A1%20%EB%AA%A8%EB%8D%B8%20%EB%A7%8C%EB%93%A4%EA%B8%B0.ipynb\" target=\"_parent\"><img src=\"https://colab.research.google.com/assets/colab-badge.svg\" alt=\"Open In Colab\"/></a>"
      ]
    },
    {
      "cell_type": "markdown",
      "source": [
        "#데이터 준비하기\n",
        "- 캐글 : https://www.kaggle.com/datasets/johnsmith88/heart-disease-dataset\n",
        "- 심장병 데이터 셋"
      ],
      "metadata": {
        "id": "JPvC_r9gQlWp"
      }
    },
    {
      "cell_type": "code",
      "execution_count": null,
      "metadata": {
        "id": "QPgIl8_JP1DP"
      },
      "outputs": [],
      "source": [
        "#라이브러리 설치\n",
        "from keras.models import Sequential\n",
        "from keras.layers import Dense\n",
        "import numpy\n",
        "import tensorflow as tf"
      ]
    },
    {
      "cell_type": "code",
      "source": [
        "#데이터 표현하기\n",
        "import pandas as pd\n",
        "df = pd.read_csv('      ')\n",
        "df.head(10)"
      ],
      "metadata": {
        "id": "uTKv6TLAQZxR"
      },
      "execution_count": 1,
      "outputs": []
    },
    {
      "cell_type": "markdown",
      "source": [
        "- age - 나이\n",
        "- gender - 성별(1:남성, 0:여성)\n",
        "- cp - 가슴 통증 유형\n",
        "- trestbps - 안정 혈압\n",
        "- chol - 혈청 콜레스테롤\n",
        "- fbs - 공복혈당 >120(1=true, 0=false) / 당뇨여부\n",
        "- restecg - 심전도 결과\n",
        "- thalach - 최대 심박수\n",
        "- exang - 운동으로 인한 협심증\n",
        "- oldpeak - 운동부하로 ST이 기준선 아래로 떨어지는지\n",
        "- slope - ST경사각도가 올라가는 경우 심근경색이 있을 때 경사가 기울어진다.(0:상승, 1:수평, 2:하강)\n",
        "- ca - 심장으로 들어가는 3개의 혈관이 막혔는지(0~3)\n",
        "- thal - 정상(3), 해결할 수 x(6), 해결가능한 결함(7)\n",
        "- target - 심장병 진단\n"
      ],
      "metadata": {
        "id": "BK-kkzB87rkI"
      }
    },
    {
      "cell_type": "code",
      "source": [
        "#결측값이 있는 행 삭제하기\n"
      ],
      "metadata": {
        "id": "hxIc-CkA-JZ5"
      },
      "execution_count": 2,
      "outputs": []
    },
    {
      "cell_type": "code",
      "source": [
        "#그래프형으로 데이터 표현하기\n",
        "import matplotlib.pyplot as plt\n",
        "import seaborn as sns\n",
        "\n",
        "plt.figure(figsize=(14,14))\n",
        "sns.heatmap(           , annot=True, linewidths=0.1, vmax=0.5, cmap='Blues')\n",
        "plt.show()"
      ],
      "metadata": {
        "id": "IpUVqL3H_Kw1"
      },
      "execution_count": 3,
      "outputs": []
    },
    {
      "cell_type": "markdown",
      "source": [
        "#모델 설계하기"
      ],
      "metadata": {
        "id": "ruN8KMIvAmsH"
      }
    },
    {
      "cell_type": "code",
      "source": [
        "from keras.models import Sequential\n",
        "from keras.layers import Dense\n",
        "import numpy\n",
        "import tensorflow as tf"
      ],
      "metadata": {
        "id": "nYTsoRuIAqQh"
      },
      "execution_count": null,
      "outputs": []
    },
    {
      "cell_type": "code",
      "source": [],
      "metadata": {
        "id": "uUWCKmfvBECY"
      },
      "execution_count": null,
      "outputs": []
    },
    {
      "cell_type": "code",
      "source": [],
      "metadata": {
        "id": "oZZPuEpzBYiV"
      },
      "execution_count": null,
      "outputs": []
    },
    {
      "cell_type": "code",
      "source": [
        "x = df.iloc[:, :-1] #outcome제외하고 모두\n",
        "y = df.iloc[:, -1] # outcome만"
      ],
      "metadata": {
        "id": "v4jSezKw8kHu"
      },
      "execution_count": null,
      "outputs": []
    },
    {
      "cell_type": "code",
      "source": [],
      "metadata": {
        "id": "tcLdd9nKBpDJ"
      },
      "execution_count": 3,
      "outputs": []
    },
    {
      "cell_type": "code",
      "source": [],
      "metadata": {
        "id": "XfJ3NF0aBts2"
      },
      "execution_count": 3,
      "outputs": []
    },
    {
      "cell_type": "markdown",
      "source": [
        "#X값 선정하기\n",
        " : 가설세우기\n"
      ],
      "metadata": {
        "id": "vMAEOIqW_9BL"
      }
    },
    {
      "cell_type": "code",
      "source": [
        "#나이가 많아질수록 심장병에 걸릴 확률이 높을까?\n"
      ],
      "metadata": {
        "id": "aDbizylVAVMT"
      },
      "execution_count": 5,
      "outputs": []
    },
    {
      "cell_type": "code",
      "source": [
        "#가슴통증이 심하면 심장병에 걸릴확률이 높을까?"
      ],
      "metadata": {
        "id": "DIDkW0PNByQY"
      },
      "execution_count": 4,
      "outputs": []
    },
    {
      "cell_type": "code",
      "source": [
        "#심박수가 높으면?\n"
      ],
      "metadata": {
        "id": "dOsILFK2Bg-l"
      },
      "execution_count": 6,
      "outputs": []
    },
    {
      "cell_type": "code",
      "source": [
        "#성별\n"
      ],
      "metadata": {
        "id": "tjV7faBoBZ9I"
      },
      "execution_count": 7,
      "outputs": []
    },
    {
      "cell_type": "code",
      "source": [
        "X = df[[]]\n",
        "Y = df.iloc[:, -1] # outcome만"
      ],
      "metadata": {
        "id": "ulpBIf35CEMC"
      },
      "execution_count": 8,
      "outputs": []
    },
    {
      "cell_type": "code",
      "source": [],
      "metadata": {
        "id": "pvSGaYoCCjz5"
      },
      "execution_count": 8,
      "outputs": []
    },
    {
      "cell_type": "code",
      "source": [],
      "metadata": {
        "id": "psAq46BTBUCq"
      },
      "execution_count": 8,
      "outputs": []
    },
    {
      "cell_type": "code",
      "source": [],
      "metadata": {
        "id": "kIyLk9DoBbvP"
      },
      "execution_count": 8,
      "outputs": []
    },
    {
      "cell_type": "code",
      "source": [],
      "metadata": {
        "id": "84x25S76Bxm8"
      },
      "execution_count": 8,
      "outputs": []
    }
  ]
}